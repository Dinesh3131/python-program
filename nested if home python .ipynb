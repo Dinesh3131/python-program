{
 "cells": [
  {
   "cell_type": "code",
   "execution_count": 2,
   "id": "ff3bad81",
   "metadata": {},
   "outputs": [],
   "source": [
    "# if <condition>:\n",
    "#     if <condition>:\n",
    "#         <operations>\n",
    "#     else:\n",
    "#         <operations>\n",
    "        \n",
    "# else:\n",
    "#     <operations>\n",
    "        \n",
    "\n"
   ]
  },
  {
   "cell_type": "code",
   "execution_count": 3,
   "id": "e53bde19",
   "metadata": {},
   "outputs": [
    {
     "name": "stdout",
     "output_type": "stream",
     "text": [
      "Enter n = -3\n",
      "The no. is negative \n"
     ]
    }
   ],
   "source": [
    "n = int(input(\"Enter n = \"))\n",
    "if n>=0:\n",
    "    if n%2 == 0:\n",
    "        print(\"The no. is positive and even \")\n",
    "    else:\n",
    "        print(\"The no. is negative and odd \")\n",
    "        \n",
    "else:\n",
    "    print(\"The no. is negative \")"
   ]
  },
  {
   "cell_type": "code",
   "execution_count": 9,
   "id": "609bd54a",
   "metadata": {},
   "outputs": [
    {
     "name": "stdout",
     "output_type": "stream",
     "text": [
      "Enter a = 10\n",
      "Enter b = 0\n",
      "Enter + - * / /\n",
      "value of b can not be zero\n"
     ]
    }
   ],
   "source": [
    "a = int(input(\"Enter a = \"))\n",
    "b = int(input(\"Enter b = \"))\n",
    "o = input(\"Enter + - * / \") # o is operator vanera lekheko matra ho\n",
    "\n",
    "if o == \"+\":\n",
    "    print(a+b)\n",
    "    \n",
    "elif o == \"-\":\n",
    "    print(a-b)\n",
    "    \n",
    "elif o == \"*\":\n",
    "    print(a*b)\n",
    "    \n",
    "elif o == \"/\":\n",
    "    if b != 0: # nested if\n",
    "        print(a/b)\n",
    "\n",
    "    else:\n",
    "        print(\"value of b can not be zero\") \n",
    "        \n",
    "else:\n",
    "    print(\"Invalid opeator\")"
   ]
  },
  {
   "cell_type": "code",
   "execution_count": 11,
   "id": "747f889d",
   "metadata": {},
   "outputs": [
    {
     "name": "stdout",
     "output_type": "stream",
     "text": [
      "Enter physics marks = 60\n",
      "Enter chemistry marks = 50\n",
      "Enter math marks = 70\n",
      "Enter english marks = 60\n",
      "Enter nepali marks = 5\n",
      "C grede\n"
     ]
    }
   ],
   "source": [
    "physics = int(input(\"Enter physics marks = \"))\n",
    "chemistry = int(input(\"Enter chemistry marks = \"))\n",
    "math = int(input(\"Enter math marks = \"))\n",
    "english = int(input(\"Enter english marks = \"))\n",
    "nepali = int(input(\"Enter nepali marks = \"))\n",
    "\n",
    "total = physics + chemistry + math + english + nepali\n",
    "per = total/5\n",
    "\n",
    "if per >= 80:\n",
    "    print(\"A grade\")\n",
    "    \n",
    "elif per >=60:\n",
    "    print(\"B grade\")\n",
    "elif per >=40:\n",
    "    print(\"C grade\")\n",
    "\n",
    "else:\n",
    "    print(\"Fail\")\n",
    "    "
   ]
  },
  {
   "cell_type": "code",
   "execution_count": null,
   "id": "ba335f38",
   "metadata": {},
   "outputs": [],
   "source": []
  },
  {
   "cell_type": "code",
   "execution_count": null,
   "id": "f91149ad",
   "metadata": {},
   "outputs": [],
   "source": []
  }
 ],
 "metadata": {
  "kernelspec": {
   "display_name": "Python 3 (ipykernel)",
   "language": "python",
   "name": "python3"
  },
  "language_info": {
   "codemirror_mode": {
    "name": "ipython",
    "version": 3
   },
   "file_extension": ".py",
   "mimetype": "text/x-python",
   "name": "python",
   "nbconvert_exporter": "python",
   "pygments_lexer": "ipython3",
   "version": "3.9.7"
  }
 },
 "nbformat": 4,
 "nbformat_minor": 5
}
