{
 "cells": [
  {
   "cell_type": "code",
   "execution_count": 1,
   "id": "c7b38542",
   "metadata": {},
   "outputs": [
    {
     "data": {
      "text/plain": [
       "10"
      ]
     },
     "execution_count": 1,
     "metadata": {},
     "output_type": "execute_result"
    }
   ],
   "source": [
    "# typecasting\n",
    "\n",
    "a = \"10\" # string\n",
    "int(a) # syntax for string to int"
   ]
  },
  {
   "cell_type": "code",
   "execution_count": 2,
   "id": "32ede140",
   "metadata": {},
   "outputs": [
    {
     "name": "stdout",
     "output_type": "stream",
     "text": [
      "Enter a = 3\n",
      "Enter b = 4\n",
      "7\n"
     ]
    }
   ],
   "source": [
    "# int value matra linxa\n",
    "a = int(input(\"Enter a = \"))\n",
    "b = int(input(\"Enter b = \"))\n",
    "c = a+b\n",
    "print(c)"
   ]
  },
  {
   "cell_type": "code",
   "execution_count": 7,
   "id": "362e9cff",
   "metadata": {},
   "outputs": [
    {
     "data": {
      "text/plain": [
       "'10'"
      ]
     },
     "execution_count": 7,
     "metadata": {},
     "output_type": "execute_result"
    }
   ],
   "source": [
    "a = 10\n",
    "str(a) # syntax for int to str\n"
   ]
  },
  {
   "cell_type": "code",
   "execution_count": 6,
   "id": "f0a6297b",
   "metadata": {},
   "outputs": [
    {
     "data": {
      "text/plain": [
       "10.0"
      ]
     },
     "execution_count": 6,
     "metadata": {},
     "output_type": "execute_result"
    }
   ],
   "source": [
    "a = 10\n",
    "float(a) # syntax for int to float"
   ]
  },
  {
   "cell_type": "code",
   "execution_count": 8,
   "id": "5c8dfd1c",
   "metadata": {},
   "outputs": [
    {
     "ename": "TypeError",
     "evalue": "unsupported operand type(s) for +: 'int' and 'str'",
     "output_type": "error",
     "traceback": [
      "\u001b[1;31m---------------------------------------------------------------------------\u001b[0m",
      "\u001b[1;31mTypeError\u001b[0m                                 Traceback (most recent call last)",
      "\u001b[1;32m~\\AppData\\Local\\Temp/ipykernel_15500/2331665360.py\u001b[0m in \u001b[0;36m<module>\u001b[1;34m\u001b[0m\n\u001b[1;32m----> 1\u001b[1;33m \u001b[1;36m10\u001b[0m \u001b[1;33m+\u001b[0m \u001b[1;34m\"10\"\u001b[0m \u001b[1;31m# not possible to concatenate different datatypes\u001b[0m\u001b[1;33m\u001b[0m\u001b[1;33m\u001b[0m\u001b[0m\n\u001b[0m",
      "\u001b[1;31mTypeError\u001b[0m: unsupported operand type(s) for +: 'int' and 'str'"
     ]
    }
   ],
   "source": [
    "10 + \"10\" # not possible to concatenate different datatypes"
   ]
  },
  {
   "cell_type": "code",
   "execution_count": 10,
   "id": "b18ec477",
   "metadata": {},
   "outputs": [
    {
     "name": "stdout",
     "output_type": "stream",
     "text": [
      "Enter p = 1000\n",
      "Enter t = 2.5\n",
      "Enter r = 10.4\n"
     ]
    },
    {
     "data": {
      "text/plain": [
       "260.0"
      ]
     },
     "execution_count": 10,
     "metadata": {},
     "output_type": "execute_result"
    }
   ],
   "source": [
    "p = int(input(\"Enter p = \"))\n",
    "t = float(input(\"Enter t = \"))\n",
    "r = float(input(\"Enter r = \"))\n",
    "\n",
    "i = p*t*r/100\n",
    "i"
   ]
  },
  {
   "cell_type": "code",
   "execution_count": 13,
   "id": "bb6428da",
   "metadata": {},
   "outputs": [
    {
     "name": "stdout",
     "output_type": "stream",
     "text": [
      "Enter name = Ram\n",
      "Enter add = KTM\n",
      "Hello world I am Ram I am from KTM\n"
     ]
    }
   ],
   "source": [
    "name = input(\"Enter name = \")\n",
    "add = input(\"Enter add = \")\n",
    "\n",
    "print(\"Hello world I am\",name,\"I am from\",add) # output achieved by adding/arranging variables values"
   ]
  },
  {
   "cell_type": "code",
   "execution_count": 1,
   "id": "b84fe333",
   "metadata": {},
   "outputs": [
    {
     "name": "stdout",
     "output_type": "stream",
     "text": [
      "Enter name = Shyam\n",
      "Enter add = Chitawan\n",
      "Hello world I am Shyam. I am from Chitawan\n"
     ]
    }
   ],
   "source": [
    "name = input(\"Enter name = \")\n",
    "add = input(\"Enter add = \")\n",
    "\n",
    "info = \"Hello world I am \"+name+\". I am from \"+add # output achieved by concatenation\n",
    "print(info)\n",
    "# same output different methods"
   ]
  },
  {
   "cell_type": "code",
   "execution_count": 2,
   "id": "da4ed395",
   "metadata": {},
   "outputs": [
    {
     "name": "stdout",
     "output_type": "stream",
     "text": [
      "Enter name = Gita\n",
      "Enter add = Dhading\n",
      "Enter age = 20\n",
      "Hello world I am Gita. I am from Dhading. I am 20\n"
     ]
    }
   ],
   "source": [
    "name = input(\"Enter name = \")\n",
    "add = input(\"Enter add = \")\n",
    "age = int(input(\"Enter age = \"))\n",
    "\n",
    "info = \"Hello world I am \"+name+\". I am from \"+add+\". I am \"+str(age) # diff datatype concate hudaina so age(int) to age(str) \n",
    "print(info) # age lai input dida int hataye pani hunxa i.e. specific datatype nadine"
   ]
  },
  {
   "cell_type": "code",
   "execution_count": 3,
   "id": "71365849",
   "metadata": {},
   "outputs": [
    {
     "name": "stdout",
     "output_type": "stream",
     "text": [
      "Hello WorldHello WorldHello World\n"
     ]
    }
   ],
   "source": [
    "a = \"Hello World\"\n",
    "print(a*3)"
   ]
  },
  {
   "cell_type": "code",
   "execution_count": 4,
   "id": "65113a99",
   "metadata": {},
   "outputs": [
    {
     "name": "stdout",
     "output_type": "stream",
     "text": [
      "Hello World\n",
      "Hello World\n",
      "Hello World\n",
      "\n"
     ]
    }
   ],
   "source": [
    "a = \"Hello World\\n\"\n",
    "print(a*3)"
   ]
  },
  {
   "cell_type": "code",
   "execution_count": 5,
   "id": "68d832ff",
   "metadata": {},
   "outputs": [
    {
     "name": "stdout",
     "output_type": "stream",
     "text": [
      "Hello World\tHello World\tHello World\t\n"
     ]
    }
   ],
   "source": [
    "a = \"Hello World\\t\"\n",
    "print(a*3)"
   ]
  },
  {
   "cell_type": "code",
   "execution_count": null,
   "id": "99ce9ea2",
   "metadata": {},
   "outputs": [],
   "source": []
  }
 ],
 "metadata": {
  "kernelspec": {
   "display_name": "Python 3 (ipykernel)",
   "language": "python",
   "name": "python3"
  },
  "language_info": {
   "codemirror_mode": {
    "name": "ipython",
    "version": 3
   },
   "file_extension": ".py",
   "mimetype": "text/x-python",
   "name": "python",
   "nbconvert_exporter": "python",
   "pygments_lexer": "ipython3",
   "version": "3.9.7"
  }
 },
 "nbformat": 4,
 "nbformat_minor": 5
}
