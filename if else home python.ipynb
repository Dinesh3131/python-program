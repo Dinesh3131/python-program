{
 "cells": [
  {
   "cell_type": "code",
   "execution_count": 2,
   "id": "4cc132cf",
   "metadata": {},
   "outputs": [],
   "source": [
    "# if <conditions>: # condition ma praya comparision operator and functions haru use hunxa, result chai either true or false hunx\n",
    "#    <operations>\n",
    "    \n",
    "# elif <conditions>:\n",
    "#    <operations>\n",
    "    \n",
    "# else:\n",
    "#    <operations>"
   ]
  },
  {
   "cell_type": "code",
   "execution_count": 3,
   "id": "f73d61cb",
   "metadata": {},
   "outputs": [
    {
     "name": "stdout",
     "output_type": "stream",
     "text": [
      "False\n"
     ]
    }
   ],
   "source": [
    "print(10>20)"
   ]
  },
  {
   "cell_type": "code",
   "execution_count": 4,
   "id": "6b69eb2a",
   "metadata": {},
   "outputs": [
    {
     "name": "stdout",
     "output_type": "stream",
     "text": [
      "True\n"
     ]
    }
   ],
   "source": [
    "print(10<20)"
   ]
  },
  {
   "cell_type": "code",
   "execution_count": 5,
   "id": "23cb0e95",
   "metadata": {},
   "outputs": [
    {
     "data": {
      "text/plain": [
       "True"
      ]
     },
     "execution_count": 5,
     "metadata": {},
     "output_type": "execute_result"
    }
   ],
   "source": [
    "a = 10\n",
    "a%2 == 0"
   ]
  },
  {
   "cell_type": "code",
   "execution_count": 6,
   "id": "32f0c3a5",
   "metadata": {},
   "outputs": [
    {
     "name": "stdout",
     "output_type": "stream",
     "text": [
      "a is even\n"
     ]
    }
   ],
   "source": [
    "if a%2 == 0: # condition haru bracket vitra rakhe pani narakhe pani farak pardaina tara python ma bracket narakhera nai garinxa \n",
    "    print(\"a is even\")"
   ]
  },
  {
   "cell_type": "code",
   "execution_count": 8,
   "id": "76744daf",
   "metadata": {},
   "outputs": [
    {
     "name": "stdout",
     "output_type": "stream",
     "text": [
      "Enter a = 22\n",
      "a is even\n"
     ]
    }
   ],
   "source": [
    "a = int(input(\"Enter a = \"))\n",
    "if a%2 == 0:  \n",
    "    print(\"a is even\")\n",
    "\n",
    "else:\n",
    "    print(\"a is odd\")"
   ]
  },
  {
   "cell_type": "code",
   "execution_count": 10,
   "id": "5af3c9b5",
   "metadata": {},
   "outputs": [
    {
     "name": "stdout",
     "output_type": "stream",
     "text": [
      "Enter a = 22\n",
      "22 is even\n"
     ]
    }
   ],
   "source": [
    "a = int(input(\"Enter a = \"))\n",
    "if a%2 == 0:  \n",
    "    print(a,\"is even\")\n",
    "\n",
    "else:\n",
    "    print(a,\"is odd\")"
   ]
  },
  {
   "cell_type": "code",
   "execution_count": 13,
   "id": "8bcbe087",
   "metadata": {},
   "outputs": [
    {
     "name": "stdout",
     "output_type": "stream",
     "text": [
      "Enter a = 10\n",
      "Enter b = 10\n",
      "Both are equal\n"
     ]
    }
   ],
   "source": [
    "a = int(input(\"Enter a = \"))\n",
    "b = int(input(\"Enter b = \"))\n",
    "\n",
    "if a>b:\n",
    "    print(a,\"is greater\")\n",
    "    \n",
    "elif b>a:\n",
    "    print(b,\"is greater\")\n",
    "    \n",
    "else:\n",
    "    print(\"Both are equal\")"
   ]
  },
  {
   "cell_type": "code",
   "execution_count": 14,
   "id": "87fa81e2",
   "metadata": {},
   "outputs": [
    {
     "data": {
      "text/plain": [
       "True"
      ]
     },
     "execution_count": 14,
     "metadata": {},
     "output_type": "execute_result"
    }
   ],
   "source": [
    "10 == 10"
   ]
  },
  {
   "cell_type": "code",
   "execution_count": 15,
   "id": "43c4eeb1",
   "metadata": {},
   "outputs": [
    {
     "data": {
      "text/plain": [
       "False"
      ]
     },
     "execution_count": 15,
     "metadata": {},
     "output_type": "execute_result"
    }
   ],
   "source": [
    "10 == 11"
   ]
  },
  {
   "cell_type": "code",
   "execution_count": 20,
   "id": "db7a40b7",
   "metadata": {},
   "outputs": [
    {
     "name": "stdout",
     "output_type": "stream",
     "text": [
      "Enter a = 10\n",
      "Enter b = 5\n",
      "Enter + - * / %\n",
      "Invalid opeator\n"
     ]
    }
   ],
   "source": [
    "a = int(input(\"Enter a = \"))\n",
    "b = int(input(\"Enter b = \"))\n",
    "o = input(\"Enter + - * / \") # o is operator vanera lekheko matra ho\n",
    "\n",
    "if o == \"+\":\n",
    "    print(a+b)\n",
    "    \n",
    "elif o == \"-\":\n",
    "    print(a-b)\n",
    "    \n",
    "elif o == \"*\":\n",
    "    print(a*b)\n",
    "    \n",
    "elif o == \"/\":\n",
    "    print(a/b)\n",
    "    \n",
    "else:\n",
    "    print(\"Invalid opeator\")"
   ]
  },
  {
   "cell_type": "code",
   "execution_count": null,
   "id": "b40af1d4",
   "metadata": {},
   "outputs": [],
   "source": [
    "# >, <, ==,!=, <=, >= etc are comparision or relational operator"
   ]
  },
  {
   "cell_type": "code",
   "execution_count": 21,
   "id": "8687be74",
   "metadata": {},
   "outputs": [
    {
     "name": "stdout",
     "output_type": "stream",
     "text": [
      "1\n",
      "1\n",
      "0\n"
     ]
    },
    {
     "ename": "ZeroDivisionError",
     "evalue": "division by zero",
     "output_type": "error",
     "traceback": [
      "\u001b[1;31m---------------------------------------------------------------------------\u001b[0m",
      "\u001b[1;31mZeroDivisionError\u001b[0m                         Traceback (most recent call last)",
      "\u001b[1;32m~\\AppData\\Local\\Temp/ipykernel_13264/2059800405.py\u001b[0m in \u001b[0;36m<module>\u001b[1;34m\u001b[0m\n\u001b[0;32m      5\u001b[0m \u001b[0mprint\u001b[0m\u001b[1;33m(\u001b[0m\u001b[0ma\u001b[0m\u001b[1;33m-\u001b[0m\u001b[0mb\u001b[0m\u001b[1;33m)\u001b[0m\u001b[1;33m\u001b[0m\u001b[1;33m\u001b[0m\u001b[0m\n\u001b[0;32m      6\u001b[0m \u001b[0mprint\u001b[0m\u001b[1;33m(\u001b[0m\u001b[0ma\u001b[0m\u001b[1;33m*\u001b[0m\u001b[0mb\u001b[0m\u001b[1;33m)\u001b[0m\u001b[1;33m\u001b[0m\u001b[1;33m\u001b[0m\u001b[0m\n\u001b[1;32m----> 7\u001b[1;33m \u001b[0mprint\u001b[0m\u001b[1;33m(\u001b[0m\u001b[0ma\u001b[0m\u001b[1;33m/\u001b[0m\u001b[0mb\u001b[0m\u001b[1;33m)\u001b[0m\u001b[1;33m\u001b[0m\u001b[1;33m\u001b[0m\u001b[0m\n\u001b[0m",
      "\u001b[1;31mZeroDivisionError\u001b[0m: division by zero"
     ]
    }
   ],
   "source": [
    "a = True # true vaneko 1\n",
    "b = False # false vaneko 0 , duitai condition haina value ho...\n",
    "\n",
    "print(a+b)\n",
    "print(a-b)\n",
    "print(a*b)\n",
    "print(a/b) # 0 le devide hudaina so invalid"
   ]
  },
  {
   "cell_type": "code",
   "execution_count": null,
   "id": "bba028fd",
   "metadata": {},
   "outputs": [],
   "source": [
    "# logical operator\n",
    "# and -> &\n",
    "# or -> |"
   ]
  },
  {
   "cell_type": "code",
   "execution_count": 22,
   "id": "7bac6b25",
   "metadata": {},
   "outputs": [
    {
     "data": {
      "text/plain": [
       "False"
      ]
     },
     "execution_count": 22,
     "metadata": {},
     "output_type": "execute_result"
    }
   ],
   "source": [
    "True and False"
   ]
  },
  {
   "cell_type": "code",
   "execution_count": 23,
   "id": "768476e4",
   "metadata": {},
   "outputs": [
    {
     "data": {
      "text/plain": [
       "False"
      ]
     },
     "execution_count": 23,
     "metadata": {},
     "output_type": "execute_result"
    }
   ],
   "source": [
    "False and True"
   ]
  },
  {
   "cell_type": "code",
   "execution_count": 24,
   "id": "4a21e9e0",
   "metadata": {},
   "outputs": [
    {
     "data": {
      "text/plain": [
       "True"
      ]
     },
     "execution_count": 24,
     "metadata": {},
     "output_type": "execute_result"
    }
   ],
   "source": [
    "True and True"
   ]
  },
  {
   "cell_type": "code",
   "execution_count": 25,
   "id": "4286c41e",
   "metadata": {},
   "outputs": [
    {
     "data": {
      "text/plain": [
       "False"
      ]
     },
     "execution_count": 25,
     "metadata": {},
     "output_type": "execute_result"
    }
   ],
   "source": [
    "False and False"
   ]
  },
  {
   "cell_type": "code",
   "execution_count": 26,
   "id": "686b8b75",
   "metadata": {},
   "outputs": [],
   "source": [
    "# next step\n"
   ]
  },
  {
   "cell_type": "code",
   "execution_count": 27,
   "id": "73cf0b3e",
   "metadata": {},
   "outputs": [
    {
     "data": {
      "text/plain": [
       "True"
      ]
     },
     "execution_count": 27,
     "metadata": {},
     "output_type": "execute_result"
    }
   ],
   "source": [
    "True or False"
   ]
  },
  {
   "cell_type": "code",
   "execution_count": 28,
   "id": "24b80fb1",
   "metadata": {},
   "outputs": [
    {
     "data": {
      "text/plain": [
       "True"
      ]
     },
     "execution_count": 28,
     "metadata": {},
     "output_type": "execute_result"
    }
   ],
   "source": [
    "False or True"
   ]
  },
  {
   "cell_type": "code",
   "execution_count": 29,
   "id": "16dc2b42",
   "metadata": {},
   "outputs": [
    {
     "data": {
      "text/plain": [
       "True"
      ]
     },
     "execution_count": 29,
     "metadata": {},
     "output_type": "execute_result"
    }
   ],
   "source": [
    "True or True"
   ]
  },
  {
   "cell_type": "code",
   "execution_count": 30,
   "id": "5c2a306c",
   "metadata": {},
   "outputs": [
    {
     "data": {
      "text/plain": [
       "False"
      ]
     },
     "execution_count": 30,
     "metadata": {},
     "output_type": "execute_result"
    }
   ],
   "source": [
    "False or False"
   ]
  },
  {
   "cell_type": "code",
   "execution_count": 31,
   "id": "19e0b889",
   "metadata": {},
   "outputs": [
    {
     "name": "stdout",
     "output_type": "stream",
     "text": [
      "Enter a = 10\n",
      "Enter b = 0\n",
      "Enter + - * / /\n",
      "value of b can not be zero\n"
     ]
    }
   ],
   "source": [
    "a = int(input(\"Enter a = \"))\n",
    "b = int(input(\"Enter b = \"))\n",
    "o = input(\"Enter + - * / \") # o is operator vanera lekheko matra ho\n",
    "\n",
    "if o == \"+\":\n",
    "    print(a+b)\n",
    "    \n",
    "elif o == \"-\":\n",
    "    print(a-b)\n",
    "    \n",
    "elif o == \"*\":\n",
    "    print(a*b)\n",
    "    \n",
    "elif o == \"/\" and b == 0:\n",
    "    print(\"value of b can not be zero\")\n",
    "    \n",
    "elif o == \"/\" and b != 0:\n",
    "    print(a/b)\n",
    "    \n",
    "else:\n",
    "    print(\"Invalid opeator\")"
   ]
  },
  {
   "cell_type": "code",
   "execution_count": 34,
   "id": "37db0432",
   "metadata": {},
   "outputs": [
    {
     "name": "stdout",
     "output_type": "stream",
     "text": [
      "Enter a = 10\n",
      "Enter b = 0\n",
      "Enter + - * / /\n",
      "value of b can not be zero\n"
     ]
    }
   ],
   "source": [
    "a = int(input(\"Enter a = \"))\n",
    "b = int(input(\"Enter b = \"))\n",
    "o = input(\"Enter + - * / \") # o is operator vanera lekheko matra ho\n",
    "\n",
    "if o == \"+\":\n",
    "    print(a+b)\n",
    "    \n",
    "elif o == \"-\":\n",
    "    print(a-b)\n",
    "    \n",
    "elif o == \"*\":\n",
    "    print(a*b)\n",
    "    \n",
    "elif o == \"/\" and b != 0:\n",
    "    print(a/b)\n",
    "\n",
    "elif o == \"/\" and b == 0:\n",
    "    print(\"value of b can not be zero\") # step agadi paxadi matra gareko ho baki sabai eutai\n",
    "        \n",
    "else:\n",
    "    print(\"Invalid opeator\")"
   ]
  },
  {
   "cell_type": "code",
   "execution_count": 36,
   "id": "59233353",
   "metadata": {},
   "outputs": [],
   "source": [
    "# sabai int str ma chang huna sakxa\n",
    "# tara str int ma change huna sakdaina"
   ]
  },
  {
   "cell_type": "code",
   "execution_count": null,
   "id": "afdbb14d",
   "metadata": {},
   "outputs": [],
   "source": [
    "# WAP to find greatest no. between three given numbers."
   ]
  },
  {
   "cell_type": "code",
   "execution_count": null,
   "id": "34e9746b",
   "metadata": {},
   "outputs": [],
   "source": []
  }
 ],
 "metadata": {
  "kernelspec": {
   "display_name": "Python 3 (ipykernel)",
   "language": "python",
   "name": "python3"
  },
  "language_info": {
   "codemirror_mode": {
    "name": "ipython",
    "version": 3
   },
   "file_extension": ".py",
   "mimetype": "text/x-python",
   "name": "python",
   "nbconvert_exporter": "python",
   "pygments_lexer": "ipython3",
   "version": "3.9.7"
  }
 },
 "nbformat": 4,
 "nbformat_minor": 5
}
